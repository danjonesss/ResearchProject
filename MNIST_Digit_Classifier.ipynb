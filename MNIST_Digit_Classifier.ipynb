{
  "cells": [
    {
      "cell_type": "markdown",
      "metadata": {
        "id": "view-in-github",
        "colab_type": "text"
      },
      "source": [
        "<a href=\"https://colab.research.google.com/github/danjonesss/ResearchProject/blob/main/MNIST_Digit_Classifier.ipynb\" target=\"_parent\"><img src=\"https://colab.research.google.com/assets/colab-badge.svg\" alt=\"Open In Colab\"/></a>"
      ]
    },
    {
      "cell_type": "code",
      "execution_count": 1,
      "metadata": {
        "id": "KVIUj82N8FG7",
        "colab": {
          "base_uri": "https://localhost:8080/"
        },
        "outputId": "5c9d697f-9480-4899-eb23-a2ad052faca1"
      },
      "outputs": [
        {
          "output_type": "stream",
          "name": "stdout",
          "text": [
            "Requirement already satisfied: codecarbon in /usr/local/lib/python3.10/dist-packages (2.3.5)\n",
            "Requirement already satisfied: arrow in /usr/local/lib/python3.10/dist-packages (from codecarbon) (1.3.0)\n",
            "Requirement already satisfied: pandas in /usr/local/lib/python3.10/dist-packages (from codecarbon) (2.0.3)\n",
            "Requirement already satisfied: pynvml in /usr/local/lib/python3.10/dist-packages (from codecarbon) (11.5.0)\n",
            "Requirement already satisfied: requests in /usr/local/lib/python3.10/dist-packages (from codecarbon) (2.31.0)\n",
            "Requirement already satisfied: psutil in /usr/local/lib/python3.10/dist-packages (from codecarbon) (5.9.5)\n",
            "Requirement already satisfied: py-cpuinfo in /usr/local/lib/python3.10/dist-packages (from codecarbon) (9.0.0)\n",
            "Requirement already satisfied: rapidfuzz in /usr/local/lib/python3.10/dist-packages (from codecarbon) (3.8.1)\n",
            "Requirement already satisfied: click in /usr/local/lib/python3.10/dist-packages (from codecarbon) (8.1.7)\n",
            "Requirement already satisfied: prometheus-client in /usr/local/lib/python3.10/dist-packages (from codecarbon) (0.20.0)\n",
            "Requirement already satisfied: python-dateutil>=2.7.0 in /usr/local/lib/python3.10/dist-packages (from arrow->codecarbon) (2.8.2)\n",
            "Requirement already satisfied: types-python-dateutil>=2.8.10 in /usr/local/lib/python3.10/dist-packages (from arrow->codecarbon) (2.9.0.20240316)\n",
            "Requirement already satisfied: pytz>=2020.1 in /usr/local/lib/python3.10/dist-packages (from pandas->codecarbon) (2023.4)\n",
            "Requirement already satisfied: tzdata>=2022.1 in /usr/local/lib/python3.10/dist-packages (from pandas->codecarbon) (2024.1)\n",
            "Requirement already satisfied: numpy>=1.21.0 in /usr/local/lib/python3.10/dist-packages (from pandas->codecarbon) (1.25.2)\n",
            "Requirement already satisfied: charset-normalizer<4,>=2 in /usr/local/lib/python3.10/dist-packages (from requests->codecarbon) (3.3.2)\n",
            "Requirement already satisfied: idna<4,>=2.5 in /usr/local/lib/python3.10/dist-packages (from requests->codecarbon) (3.6)\n",
            "Requirement already satisfied: urllib3<3,>=1.21.1 in /usr/local/lib/python3.10/dist-packages (from requests->codecarbon) (2.0.7)\n",
            "Requirement already satisfied: certifi>=2017.4.17 in /usr/local/lib/python3.10/dist-packages (from requests->codecarbon) (2024.2.2)\n",
            "Requirement already satisfied: six>=1.5 in /usr/local/lib/python3.10/dist-packages (from python-dateutil>=2.7.0->arrow->codecarbon) (1.16.0)\n"
          ]
        }
      ],
      "source": [
        "!pip install codecarbon"
      ]
    },
    {
      "cell_type": "code",
      "execution_count": 2,
      "metadata": {
        "id": "T8ynkqXhxetH"
      },
      "outputs": [],
      "source": [
        "import numpy as np\n",
        "from tensorflow import keras\n",
        "from tensorflow.keras import layers\n",
        "import matplotlib.pyplot as plt\n",
        "import numpy as np\n",
        "from sklearn.metrics import confusion_matrix,accuracy_score,precision_score,recall_score,f1_score\n",
        "from codecarbon import EmissionsTracker\n",
        "import time\n",
        "from random import randint\n",
        "from sklearn import svm"
      ]
    },
    {
      "cell_type": "code",
      "execution_count": 3,
      "metadata": {
        "id": "osvqUTMjzuc0",
        "colab": {
          "base_uri": "https://localhost:8080/"
        },
        "outputId": "3b91da75-20be-46d6-ee24-c57058f7e579"
      },
      "outputs": [
        {
          "output_type": "stream",
          "name": "stderr",
          "text": [
            "[codecarbon INFO @ 18:42:49] [setup] RAM Tracking...\n",
            "[codecarbon INFO @ 18:42:50] [setup] GPU Tracking...\n",
            "[codecarbon INFO @ 18:42:50] Tracking Nvidia GPU via pynvml\n",
            "[codecarbon INFO @ 18:42:50] [setup] CPU Tracking...\n",
            "[codecarbon WARNING @ 18:42:50] No CPU tracking mode found. Falling back on CPU constant mode.\n",
            "[codecarbon WARNING @ 18:42:51] We saw that you have a Intel(R) Xeon(R) CPU @ 2.00GHz but we don't know it. Please contact us.\n",
            "[codecarbon INFO @ 18:42:51] CPU Model on constant consumption mode: Intel(R) Xeon(R) CPU @ 2.00GHz\n",
            "[codecarbon INFO @ 18:42:51] >>> Tracker's metadata:\n",
            "[codecarbon INFO @ 18:42:51]   Platform system: Linux-6.1.58+-x86_64-with-glibc2.35\n",
            "[codecarbon INFO @ 18:42:51]   Python version: 3.10.12\n",
            "[codecarbon INFO @ 18:42:51]   CodeCarbon version: 2.3.5\n",
            "[codecarbon INFO @ 18:42:51]   Available RAM : 12.675 GB\n",
            "[codecarbon INFO @ 18:42:51]   CPU count: 2\n",
            "[codecarbon INFO @ 18:42:51]   CPU model: Intel(R) Xeon(R) CPU @ 2.00GHz\n",
            "[codecarbon INFO @ 18:42:51]   GPU count: 1\n",
            "[codecarbon INFO @ 18:42:51]   GPU model: 1 x Tesla T4\n",
            "[codecarbon INFO @ 18:42:51] [setup] RAM Tracking...\n",
            "[codecarbon INFO @ 18:42:51] [setup] GPU Tracking...\n",
            "[codecarbon INFO @ 18:42:51] Tracking Nvidia GPU via pynvml\n",
            "[codecarbon INFO @ 18:42:51] [setup] CPU Tracking...\n",
            "[codecarbon WARNING @ 18:42:51] No CPU tracking mode found. Falling back on CPU constant mode.\n",
            "[codecarbon WARNING @ 18:42:52] We saw that you have a Intel(R) Xeon(R) CPU @ 2.00GHz but we don't know it. Please contact us.\n",
            "[codecarbon INFO @ 18:42:52] CPU Model on constant consumption mode: Intel(R) Xeon(R) CPU @ 2.00GHz\n",
            "[codecarbon INFO @ 18:42:52] >>> Tracker's metadata:\n",
            "[codecarbon INFO @ 18:42:52]   Platform system: Linux-6.1.58+-x86_64-with-glibc2.35\n",
            "[codecarbon INFO @ 18:42:52]   Python version: 3.10.12\n",
            "[codecarbon INFO @ 18:42:52]   CodeCarbon version: 2.3.5\n",
            "[codecarbon INFO @ 18:42:52]   Available RAM : 12.675 GB\n",
            "[codecarbon INFO @ 18:42:52]   CPU count: 2\n",
            "[codecarbon INFO @ 18:42:52]   CPU model: Intel(R) Xeon(R) CPU @ 2.00GHz\n",
            "[codecarbon INFO @ 18:42:52]   GPU count: 1\n",
            "[codecarbon INFO @ 18:42:52]   GPU model: 1 x Tesla T4\n"
          ]
        },
        {
          "output_type": "stream",
          "name": "stdout",
          "text": [
            "x_train shape: (60000, 28, 28, 1)\n",
            "60000 train samples\n",
            "10000 test samples\n",
            "Model: \"sequential\"\n",
            "_________________________________________________________________\n",
            " Layer (type)                Output Shape              Param #   \n",
            "=================================================================\n",
            " conv2d (Conv2D)             (None, 26, 26, 32)        320       \n",
            "                                                                 \n",
            " max_pooling2d (MaxPooling2  (None, 13, 13, 32)        0         \n",
            " D)                                                              \n",
            "                                                                 \n",
            " conv2d_1 (Conv2D)           (None, 11, 11, 64)        18496     \n",
            "                                                                 \n",
            " max_pooling2d_1 (MaxPoolin  (None, 5, 5, 64)          0         \n",
            " g2D)                                                            \n",
            "                                                                 \n",
            " flatten (Flatten)           (None, 1600)              0         \n",
            "                                                                 \n",
            " dropout (Dropout)           (None, 1600)              0         \n",
            "                                                                 \n",
            " dense (Dense)               (None, 10)                16010     \n",
            "                                                                 \n",
            "=================================================================\n",
            "Total params: 34826 (136.04 KB)\n",
            "Trainable params: 34826 (136.04 KB)\n",
            "Non-trainable params: 0 (0.00 Byte)\n",
            "_________________________________________________________________\n"
          ]
        },
        {
          "output_type": "stream",
          "name": "stderr",
          "text": [
            "[codecarbon INFO @ 18:43:08] Energy consumed for RAM : 0.000020 kWh. RAM Power : 4.753046035766602 W\n",
            "[codecarbon INFO @ 18:43:08] Energy consumed for all GPUs : 0.000135 kWh. Total GPU Power : 32.430667738395194 W\n",
            "[codecarbon INFO @ 18:43:08] Energy consumed for all CPUs : 0.000177 kWh. Total CPU Power : 42.5 W\n",
            "[codecarbon INFO @ 18:43:08] 0.000332 kWh of electricity used since the beginning.\n",
            "[codecarbon INFO @ 18:43:23] Energy consumed for RAM : 0.000040 kWh. RAM Power : 4.753046035766602 W\n",
            "[codecarbon INFO @ 18:43:23] Energy consumed for all GPUs : 0.000285 kWh. Total GPU Power : 35.957166649150835 W\n",
            "[codecarbon INFO @ 18:43:23] Energy consumed for all CPUs : 0.000354 kWh. Total CPU Power : 42.5 W\n",
            "[codecarbon INFO @ 18:43:23] 0.000679 kWh of electricity used since the beginning.\n",
            "[codecarbon INFO @ 18:43:38] Energy consumed for RAM : 0.000059 kWh. RAM Power : 4.753046035766602 W\n",
            "[codecarbon INFO @ 18:43:38] Energy consumed for all GPUs : 0.000457 kWh. Total GPU Power : 41.32597830687104 W\n",
            "[codecarbon INFO @ 18:43:38] Energy consumed for all CPUs : 0.000531 kWh. Total CPU Power : 42.5 W\n",
            "[codecarbon INFO @ 18:43:38] 0.001048 kWh of electricity used since the beginning.\n",
            "[codecarbon INFO @ 18:43:53] Energy consumed for RAM : 0.000079 kWh. RAM Power : 4.753046035766602 W\n",
            "[codecarbon INFO @ 18:43:53] Energy consumed for all GPUs : 0.000633 kWh. Total GPU Power : 42.32731666852532 W\n",
            "[codecarbon INFO @ 18:43:53] Energy consumed for all CPUs : 0.000708 kWh. Total CPU Power : 42.5 W\n",
            "[codecarbon INFO @ 18:43:53] 0.001421 kWh of electricity used since the beginning.\n",
            "[codecarbon INFO @ 18:44:08] Energy consumed for RAM : 0.000099 kWh. RAM Power : 4.753046035766602 W\n",
            "[codecarbon INFO @ 18:44:08] Energy consumed for all GPUs : 0.000809 kWh. Total GPU Power : 42.323914138444295 W\n",
            "[codecarbon INFO @ 18:44:08] Energy consumed for all CPUs : 0.000885 kWh. Total CPU Power : 42.5 W\n",
            "[codecarbon INFO @ 18:44:08] 0.001794 kWh of electricity used since the beginning.\n",
            "[codecarbon INFO @ 18:44:18] Energy consumed for RAM : 0.000112 kWh. RAM Power : 4.753046035766602 W\n",
            "[codecarbon INFO @ 18:44:18] Energy consumed for all GPUs : 0.000924 kWh. Total GPU Power : 41.29672889570747 W\n",
            "[codecarbon INFO @ 18:44:18] Energy consumed for all CPUs : 0.001003 kWh. Total CPU Power : 42.5 W\n",
            "[codecarbon INFO @ 18:44:18] 0.002039 kWh of electricity used since the beginning.\n"
          ]
        }
      ],
      "source": [
        "ET = EmissionsTracker()\n",
        "svmET = EmissionsTracker()\n",
        "num_classes = 10\n",
        "input_shape = (28,28,1)\n",
        "\n",
        "(x_train,y_train),(x_test,y_test)=keras.datasets.mnist.load_data()\n",
        "\n",
        "x_train = x_train.astype(\"float32\")/255\n",
        "x_test = x_test.astype(\"float32\")/255\n",
        "\n",
        "x_train=np.expand_dims(x_train,-1)\n",
        "x_test=np.expand_dims(x_test,-1)\n",
        "print(\"x_train shape:\", x_train.shape)\n",
        "print(x_train.shape[0],\"train samples\")\n",
        "print(x_test.shape[0],\"test samples\")\n",
        "\n",
        "\n",
        "y_train = keras.utils.to_categorical(y_train,num_classes)\n",
        "y_test = keras.utils.to_categorical(y_test,num_classes)\n",
        "\n",
        "ET.start()\n",
        "StartTime = time.time()\n",
        "model = keras.Sequential(\n",
        "    [\n",
        "        keras.Input(shape=input_shape),\n",
        "        layers.Conv2D(32, kernel_size=(3, 3), activation=\"relu\"),\n",
        "        layers.MaxPooling2D(pool_size=(2, 2)),\n",
        "        layers.Conv2D(64, kernel_size=(3, 3), activation=\"relu\"),\n",
        "        layers.MaxPooling2D(pool_size=(2, 2)),\n",
        "        layers.Flatten(),\n",
        "        layers.Dropout(0.5),\n",
        "        layers.Dense(num_classes, activation=\"softmax\"),\n",
        "    ]\n",
        ")\n",
        "\n",
        "model.summary()\n",
        "batch_size = 64\n",
        "epochs = 24\n",
        "\n",
        "model.compile(loss=\"categorical_crossentropy\", optimizer=\"adam\", metrics=[\"accuracy\"])\n",
        "\n",
        "history=model.fit(x_train, y_train, batch_size=batch_size, epochs=epochs, validation_split=0.1,verbose=0)\n",
        "emissions: float = ET.stop()\n",
        "EndTime = time.time() - StartTime"
      ]
    },
    {
      "cell_type": "code",
      "execution_count": 4,
      "metadata": {
        "id": "L2wrq9l4QjW5",
        "colab": {
          "base_uri": "https://localhost:8080/"
        },
        "outputId": "94d93ff4-f74a-4f30-c76f-f004c67cb9ab"
      },
      "outputs": [
        {
          "output_type": "stream",
          "name": "stdout",
          "text": [
            "313/313 [==============================] - 1s 4ms/step - loss: 0.0252 - accuracy: 0.9925\n",
            "313/313 [==============================] - 1s 2ms/step\n",
            "[[ 978    0    0    0    0    0    1    1    0    0]\n",
            " [   0 1131    3    0    0    0    1    0    0    0]\n",
            " [   1    0 1025    0    0    0    0    5    1    0]\n",
            " [   0    0    3 1004    0    2    0    0    1    0]\n",
            " [   0    0    0    0  975    0    3    1    2    1]\n",
            " [   1    0    0    4    0  885    1    0    1    0]\n",
            " [   1    1    0    0    1    4  950    0    1    0]\n",
            " [   0    2    2    1    0    0    0 1022    1    0]\n",
            " [   2    0    1    0    0    0    0    0  969    2]\n",
            " [   1    0    0    2    5    7    1    4    3  986]]\n",
            "\n",
            "Accuracy:  0.9925\n",
            "Precision:  0.9925\n",
            "Recall:  0.9925\n",
            "F1 Score:  0.9925\n"
          ]
        }
      ],
      "source": [
        "score = model.evaluate(x_test, y_test, verbose=1)\n",
        "y_pred = model.predict(x_test)\n",
        "y_pred = np.argmax(y_pred,axis=1)\n",
        "Y_test = np.argmax(y_test,axis=1)\n",
        "cm = confusion_matrix(Y_test,y_pred)\n",
        "print(cm)\n",
        "accuracy = accuracy_score(Y_test,y_pred)\n",
        "precision = precision_score(Y_test,y_pred,average=\"micro\")\n",
        "recall = recall_score(Y_test,y_pred,average=\"micro\")\n",
        "f1 = f1_score(Y_test,y_pred,average=\"micro\")\n",
        "print(\"\")\n",
        "print(\"Accuracy: \",accuracy)\n",
        "print(\"Precision: \",precision)\n",
        "print(\"Recall: \",recall)\n",
        "print(\"F1 Score: \",f1)"
      ]
    },
    {
      "cell_type": "code",
      "source": [
        "x_train_flat = x_train.reshape(x_train.shape[0], -1)\n",
        "x_test_flat = x_test.reshape(x_test.shape[0], -1)\n",
        "\n",
        "y_train_svm = np.argmax(y_train, axis=1)\n",
        "y_test_svm = np.argmax(y_test, axis=1)\n",
        "\n",
        "svmET.start()\n",
        "svm_StartTime = time.time()\n",
        "svm_model = svm.SVC(kernel='linear')\n",
        "svm_model.fit(x_train_flat, y_train_svm)\n",
        "svm_EndTime = time.time() - svm_StartTime\n",
        "svm_emissions: float = svmET.stop()\n",
        "\n",
        "y_pred_svm = svm_model.predict(x_test_flat)\n",
        "svm_cm = confusion_matrix(y_test_svm, y_pred_svm)\n",
        "\n",
        "svm_accuracy = accuracy_score(y_test_svm, y_pred_svm)\n",
        "svm_precision = precision_score(y_test_svm, y_pred_svm, average=\"micro\")\n",
        "svm_recall = recall_score(y_test_svm, y_pred_svm, average=\"micro\")\n",
        "svm_f1 = f1_score(y_test_svm, y_pred_svm, average=\"micro\")\n",
        "\n",
        "print(svm_cm)\n",
        "print(\"\\nSVM Accuracy: \", svm_accuracy)\n",
        "print(\"SVM Precision: \", svm_precision)\n",
        "print(\"SVM Recall: \", svm_recall)\n",
        "print(\"SVM F1 Score: \", svm_f1)"
      ],
      "metadata": {
        "colab": {
          "base_uri": "https://localhost:8080/"
        },
        "id": "b0prZQcBRcD0",
        "outputId": "0f0d140b-f932-4cc4-bdd9-b6c44f9d5d7f"
      },
      "execution_count": 6,
      "outputs": [
        {
          "output_type": "stream",
          "name": "stderr",
          "text": [
            "[codecarbon INFO @ 18:44:36] Energy consumed for RAM : 0.000020 kWh. RAM Power : 4.753046035766602 W\n",
            "[codecarbon INFO @ 18:44:36] Energy consumed for all GPUs : 0.000130 kWh. Total GPU Power : 31.160823442865034 W\n",
            "[codecarbon INFO @ 18:44:36] Energy consumed for all CPUs : 0.000177 kWh. Total CPU Power : 42.5 W\n",
            "[codecarbon INFO @ 18:44:36] 0.000327 kWh of electricity used since the beginning.\n",
            "[codecarbon INFO @ 18:44:51] Energy consumed for RAM : 0.000040 kWh. RAM Power : 4.753046035766602 W\n",
            "[codecarbon INFO @ 18:44:51] Energy consumed for all GPUs : 0.000260 kWh. Total GPU Power : 31.28234779099024 W\n",
            "[codecarbon INFO @ 18:44:51] Energy consumed for all CPUs : 0.000354 kWh. Total CPU Power : 42.5 W\n",
            "[codecarbon INFO @ 18:44:51] 0.000654 kWh of electricity used since the beginning.\n",
            "[codecarbon INFO @ 18:45:06] Energy consumed for RAM : 0.000059 kWh. RAM Power : 4.753046035766602 W\n",
            "[codecarbon INFO @ 18:45:06] Energy consumed for all GPUs : 0.000391 kWh. Total GPU Power : 31.45562408375596 W\n",
            "[codecarbon INFO @ 18:45:06] Energy consumed for all CPUs : 0.000532 kWh. Total CPU Power : 42.5 W\n",
            "[codecarbon INFO @ 18:45:06] 0.000982 kWh of electricity used since the beginning.\n",
            "[codecarbon INFO @ 18:45:21] Energy consumed for RAM : 0.000079 kWh. RAM Power : 4.753046035766602 W\n",
            "[codecarbon INFO @ 18:45:21] Energy consumed for all GPUs : 0.000522 kWh. Total GPU Power : 31.401819961794725 W\n",
            "[codecarbon INFO @ 18:45:21] Energy consumed for all CPUs : 0.000709 kWh. Total CPU Power : 42.5 W\n",
            "[codecarbon INFO @ 18:45:21] 0.001310 kWh of electricity used since the beginning.\n",
            "[codecarbon INFO @ 18:45:36] Energy consumed for RAM : 0.000099 kWh. RAM Power : 4.753046035766602 W\n",
            "[codecarbon INFO @ 18:45:36] Energy consumed for all GPUs : 0.000654 kWh. Total GPU Power : 31.635429453374776 W\n",
            "[codecarbon INFO @ 18:45:36] Energy consumed for all CPUs : 0.000886 kWh. Total CPU Power : 42.5 W\n",
            "[codecarbon INFO @ 18:45:36] 0.001639 kWh of electricity used since the beginning.\n",
            "[codecarbon INFO @ 18:45:51] Energy consumed for RAM : 0.000119 kWh. RAM Power : 4.753046035766602 W\n",
            "[codecarbon INFO @ 18:45:51] Energy consumed for all GPUs : 0.000787 kWh. Total GPU Power : 31.976221029537108 W\n",
            "[codecarbon INFO @ 18:45:51] Energy consumed for all CPUs : 0.001063 kWh. Total CPU Power : 42.5 W\n",
            "[codecarbon INFO @ 18:45:51] 0.001969 kWh of electricity used since the beginning.\n",
            "[codecarbon INFO @ 18:46:06] Energy consumed for RAM : 0.000139 kWh. RAM Power : 4.753046035766602 W\n",
            "[codecarbon INFO @ 18:46:06] Energy consumed for all GPUs : 0.000920 kWh. Total GPU Power : 31.868221613977425 W\n",
            "[codecarbon INFO @ 18:46:06] Energy consumed for all CPUs : 0.001240 kWh. Total CPU Power : 42.5 W\n",
            "[codecarbon INFO @ 18:46:06] 0.002299 kWh of electricity used since the beginning.\n",
            "[codecarbon INFO @ 18:46:21] Energy consumed for RAM : 0.000158 kWh. RAM Power : 4.753046035766602 W\n",
            "[codecarbon INFO @ 18:46:21] Energy consumed for all GPUs : 0.001053 kWh. Total GPU Power : 31.905516926986405 W\n",
            "[codecarbon INFO @ 18:46:21] Energy consumed for all CPUs : 0.001417 kWh. Total CPU Power : 42.5 W\n",
            "[codecarbon INFO @ 18:46:21] 0.002628 kWh of electricity used since the beginning.\n",
            "[codecarbon INFO @ 18:46:36] Energy consumed for RAM : 0.000178 kWh. RAM Power : 4.753046035766602 W\n",
            "[codecarbon INFO @ 18:46:36] Energy consumed for all GPUs : 0.001184 kWh. Total GPU Power : 31.50262335242681 W\n",
            "[codecarbon INFO @ 18:46:36] Energy consumed for all CPUs : 0.001594 kWh. Total CPU Power : 42.5 W\n",
            "[codecarbon INFO @ 18:46:36] 0.002956 kWh of electricity used since the beginning.\n",
            "[codecarbon INFO @ 18:46:51] Energy consumed for RAM : 0.000198 kWh. RAM Power : 4.753046035766602 W\n",
            "[codecarbon INFO @ 18:46:51] Energy consumed for all GPUs : 0.001316 kWh. Total GPU Power : 31.7133011605929 W\n",
            "[codecarbon INFO @ 18:46:51] Energy consumed for all CPUs : 0.001771 kWh. Total CPU Power : 42.5 W\n",
            "[codecarbon INFO @ 18:46:51] 0.003285 kWh of electricity used since the beginning.\n",
            "[codecarbon INFO @ 18:47:06] Energy consumed for RAM : 0.000218 kWh. RAM Power : 4.753046035766602 W\n",
            "[codecarbon INFO @ 18:47:06] Energy consumed for all GPUs : 0.001447 kWh. Total GPU Power : 31.62928006026257 W\n",
            "[codecarbon INFO @ 18:47:06] Energy consumed for all CPUs : 0.001949 kWh. Total CPU Power : 42.5 W\n",
            "[codecarbon INFO @ 18:47:06] 0.003614 kWh of electricity used since the beginning.\n",
            "[codecarbon INFO @ 18:47:21] Energy consumed for RAM : 0.000237 kWh. RAM Power : 4.753046035766602 W\n",
            "[codecarbon INFO @ 18:47:21] Energy consumed for all GPUs : 0.001581 kWh. Total GPU Power : 31.948906018673153 W\n",
            "[codecarbon INFO @ 18:47:21] Energy consumed for all CPUs : 0.002126 kWh. Total CPU Power : 42.5 W\n",
            "[codecarbon INFO @ 18:47:21] 0.003944 kWh of electricity used since the beginning.\n",
            "[codecarbon INFO @ 18:47:36] Energy consumed for RAM : 0.000257 kWh. RAM Power : 4.753046035766602 W\n",
            "[codecarbon INFO @ 18:47:36] Energy consumed for all GPUs : 0.001714 kWh. Total GPU Power : 31.977052422784432 W\n",
            "[codecarbon INFO @ 18:47:36] Energy consumed for all CPUs : 0.002303 kWh. Total CPU Power : 42.5 W\n",
            "[codecarbon INFO @ 18:47:36] 0.004274 kWh of electricity used since the beginning.\n",
            "[codecarbon INFO @ 18:47:51] Energy consumed for RAM : 0.000277 kWh. RAM Power : 4.753046035766602 W\n",
            "[codecarbon INFO @ 18:47:51] Energy consumed for all GPUs : 0.001845 kWh. Total GPU Power : 31.525997285243786 W\n",
            "[codecarbon INFO @ 18:47:51] Energy consumed for all CPUs : 0.002480 kWh. Total CPU Power : 42.5 W\n",
            "[codecarbon INFO @ 18:47:51] 0.004603 kWh of electricity used since the beginning.\n",
            "[codecarbon INFO @ 18:48:06] Energy consumed for RAM : 0.000297 kWh. RAM Power : 4.753046035766602 W\n",
            "[codecarbon INFO @ 18:48:06] Energy consumed for all GPUs : 0.001977 kWh. Total GPU Power : 31.71689495874385 W\n",
            "[codecarbon INFO @ 18:48:06] Energy consumed for all CPUs : 0.002657 kWh. Total CPU Power : 42.5 W\n",
            "[codecarbon INFO @ 18:48:06] 0.004932 kWh of electricity used since the beginning.\n",
            "[codecarbon INFO @ 18:48:19] Energy consumed for RAM : 0.000314 kWh. RAM Power : 4.753046035766602 W\n",
            "[codecarbon INFO @ 18:48:19] Energy consumed for all GPUs : 0.002088 kWh. Total GPU Power : 30.48270420505017 W\n",
            "[codecarbon INFO @ 18:48:19] Energy consumed for all CPUs : 0.002812 kWh. Total CPU Power : 42.5 W\n",
            "[codecarbon INFO @ 18:48:19] 0.005215 kWh of electricity used since the beginning.\n"
          ]
        },
        {
          "output_type": "stream",
          "name": "stdout",
          "text": [
            "[[ 957    0    4    1    1    6    9    1    0    1]\n",
            " [   0 1122    3    2    0    1    2    1    4    0]\n",
            " [   8    6  967   11    3    3    7    8   17    2]\n",
            " [   4    3   16  947    1   16    0    9   12    2]\n",
            " [   1    1   10    1  942    2    4    2    3   16]\n",
            " [  10    4    3   36    6  803   13    1   14    2]\n",
            " [   9    2   13    1    5   16  910    1    1    0]\n",
            " [   1    8   21   10    8    1    0  957    3   19]\n",
            " [   8    4    6   25    7   26    6    7  877    8]\n",
            " [   7    7    2   11   33    4    0   18    5  922]]\n",
            "\n",
            "SVM Accuracy:  0.9404\n",
            "SVM Precision:  0.9404\n",
            "SVM Recall:  0.9404\n",
            "SVM F1 Score:  0.9404\n"
          ]
        }
      ]
    },
    {
      "cell_type": "code",
      "execution_count": 7,
      "metadata": {
        "id": "W-hlM3320RL2",
        "colab": {
          "base_uri": "https://localhost:8080/",
          "height": 690
        },
        "outputId": "dee7fdc2-69f7-499e-e6d4-92dde04ca8f3"
      },
      "outputs": [
        {
          "output_type": "stream",
          "name": "stdout",
          "text": [
            "Test loss: 0.025244545191526413\n",
            "Test accuracy: 0.9925000071525574\n"
          ]
        },
        {
          "output_type": "display_data",
          "data": {
            "text/plain": [
              "<Figure size 640x480 with 1 Axes>"
            ],
            "image/png": "[encoded data removed]"
          },
          "metadata": {}
        },
        {
          "output_type": "stream",
          "name": "stdout",
          "text": [
            "\n",
            "NN Emissions: 0.0007119272329393654 kg\n",
            "SVM Emissions: 0.0018210756967446656 kg\n",
            "\n",
            "NN Time taken:  85.0019199848175 seconds\n",
            "SVM Time taken:  238.2961483001709 seconds\n",
            "\n",
            "NN Accuracy :  99.25 %\n",
            "SVM Accuracy :  94.04 %\n",
            "\n"
          ]
        }
      ],
      "source": [
        "print(\"Test loss:\", score[0])\n",
        "print(\"Test accuracy:\", score[1])\n",
        "plt.plot(history.history['accuracy'])\n",
        "plt.plot(history.history['val_accuracy'])\n",
        "plt.title('Model Accuracy')\n",
        "plt.ylabel('accuracy')\n",
        "plt.xlabel('epoch')\n",
        "plt.legend(['train', 'test'], loc='lower right')\n",
        "plt.show()\n",
        "print(\"\")\n",
        "print(f'NN Emissions: {emissions} kg')\n",
        "print(f'SVM Emissions: {svm_emissions} kg')\n",
        "print(\"\")\n",
        "print(\"NN Time taken: \", EndTime, \"seconds\")\n",
        "print(\"SVM Time taken: \", svm_EndTime, \"seconds\")\n",
        "print(\"\")\n",
        "print(\"NN Accuracy : \", accuracy*100, \"%\")\n",
        "print(\"SVM Accuracy : \", svm_accuracy*100, \"%\")\n",
        "print(\"\")"
      ]
    },
    {
      "cell_type": "code",
      "source": [
        "fig, ax1 = plt.subplots(1,1)\n",
        "num = randint(0,9999)\n",
        "ax1.imshow(x_test[num], cmap='gray', interpolation = 'none')\n",
        "ax1.set_title('Prediction: {}, True: {}'.format(y_pred[num], Y_test[num]))\n",
        "ax1.set_xticks([])\n",
        "ax1.set_yticks([])"
      ],
      "metadata": {
        "id": "wr2thrmORjfq",
        "colab": {
          "base_uri": "https://localhost:8080/",
          "height": 446
        },
        "outputId": "527a1a41-9575-4362-c6f0-5f76796866eb"
      },
      "execution_count": 8,
      "outputs": [
        {
          "output_type": "execute_result",
          "data": {
            "text/plain": [
              "[]"
            ]
          },
          "metadata": {},
          "execution_count": 8
        },
        {
          "output_type": "display_data",
          "data": {
            "text/plain": [
              "<Figure size 640x480 with 1 Axes>"
            ],
            "image/png": "[encoded data removed]"
          },
          "metadata": {}
        }
      ]
    },
    {
      "cell_type": "code",
      "source": [
        "misclassified_indices = np.where(Y_test != y_pred)[0]\n",
        "\n",
        "fig, ax2 = plt.subplots(1,1)\n",
        "num1 = np.random.choice(misclassified_indices)\n",
        "ax2.imshow(x_test[num1], cmap='gray', interpolation = 'none')\n",
        "ax2.set_title('Prediction: {}, True: {}'.format(y_pred[num1], Y_test[num1]))\n",
        "ax2.set_xticks([])\n",
        "ax2.set_yticks([])\n"
      ],
      "metadata": {
        "id": "c0qDyeptdqV4",
        "colab": {
          "base_uri": "https://localhost:8080/",
          "height": 446
        },
        "outputId": "d2d2368d-52f1-4c88-b0d0-8805f1052794"
      },
      "execution_count": 9,
      "outputs": [
        {
          "output_type": "execute_result",
          "data": {
            "text/plain": [
              "[]"
            ]
          },
          "metadata": {},
          "execution_count": 9
        },
        {
          "output_type": "display_data",
          "data": {
            "text/plain": [
              "<Figure size 640x480 with 1 Axes>"
            ],
            "image/png": "[encoded data removed]"
          },
          "metadata": {}
        }
      ]
    }
  ],
  "metadata": {
    "colab": {
      "provenance": [],
      "gpuType": "T4",
      "authorship_tag": "ABX9TyN+o5FAjhV/81Xq7Q6QqBQn",
      "include_colab_link": true
    },
    "kernelspec": {
      "display_name": "Python 3",
      "name": "python3"
    },
    "language_info": {
      "name": "python"
    },
    "accelerator": "GPU"
  },
  "nbformat": 4,
  "nbformat_minor": 0
}