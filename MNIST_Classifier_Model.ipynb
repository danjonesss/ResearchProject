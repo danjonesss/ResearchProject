{
  "cells": [
    {
      "cell_type": "markdown",
      "metadata": {
        "id": "view-in-github",
        "colab_type": "text"
      },
      "source": [
        "<a href=\"https://colab.research.google.com/github/danjonesss/ResearchProject/blob/main/MNIST_Classifier_Model.ipynb\" target=\"_parent\"><img src=\"https://colab.research.google.com/assets/colab-badge.svg\" alt=\"Open In Colab\"/></a>"
      ]
    },
    {
      "cell_type": "code",
      "execution_count": null,
      "metadata": {
        "id": "KVIUj82N8FG7"
      },
      "outputs": [],
      "source": [
        "!pip install codecarbon"
      ]
    },
    {
      "cell_type": "code",
      "execution_count": 2,
      "metadata": {
        "id": "T8ynkqXhxetH"
      },
      "outputs": [],
      "source": [
        "import numpy as np\n",
        "from tensorflow import keras\n",
        "from tensorflow.keras import layers\n",
        "import matplotlib.pyplot as plt\n",
        "import numpy as np\n",
        "from sklearn.metrics import confusion_matrix,accuracy_score,precision_score,recall_score,f1_score\n",
        "from codecarbon import EmissionsTracker\n",
        "import time\n",
        "from random import randint\n",
        "from sklearn import svm"
      ]
    },
    {
      "cell_type": "code",
      "execution_count": null,
      "metadata": {
        "id": "osvqUTMjzuc0"
      },
      "outputs": [],
      "source": [
        "ET = EmissionsTracker()\n",
        "svmET = EmissionsTracker()\n",
        "num_classes = 10\n",
        "input_shape = (28,28,1)\n",
        "\n",
        "(x_train,y_train),(x_test,y_test)=keras.datasets.mnist.load_data()\n",
        "\n",
        "x_train = x_train.astype(\"float32\")/255\n",
        "x_test = x_test.astype(\"float32\")/255\n",
        "\n",
        "x_train=np.expand_dims(x_train,-1)\n",
        "x_test=np.expand_dims(x_test,-1)\n",
        "print(\"x_train shape:\", x_train.shape)\n",
        "print(x_train.shape[0],\"train samples\")\n",
        "print(x_test.shape[0],\"test samples\")\n",
        "\n",
        "\n",
        "y_train = keras.utils.to_categorical(y_train,num_classes)\n",
        "y_test = keras.utils.to_categorical(y_test,num_classes)\n",
        "\n",
        "ET.start()\n",
        "StartTime = time.time()\n",
        "model = keras.Sequential(\n",
        "    [\n",
        "        keras.Input(shape=input_shape),\n",
        "        layers.Conv2D(32, kernel_size=(3, 3), activation=\"relu\"),\n",
        "        layers.MaxPooling2D(pool_size=(2, 2)),\n",
        "        layers.Conv2D(64, kernel_size=(3, 3), activation=\"relu\"),\n",
        "        layers.MaxPooling2D(pool_size=(2, 2)),\n",
        "        layers.Flatten(),\n",
        "        layers.Dropout(0.5),\n",
        "        layers.Dense(num_classes, activation=\"softmax\"),\n",
        "    ]\n",
        ")\n",
        "\n",
        "model.summary()\n",
        "batch_size = 64\n",
        "epochs = 24\n",
        "\n",
        "model.compile(loss=\"categorical_crossentropy\", optimizer=\"adam\", metrics=[\"accuracy\"])\n",
        "\n",
        "history=model.fit(x_train, y_train, batch_size=batch_size, epochs=epochs, validation_split=0.1,verbose=0)\n",
        "emissions: float = ET.stop()\n",
        "EndTime = time.time() - StartTime"
      ]
    },
    {
      "cell_type": "code",
      "execution_count": null,
      "metadata": {
        "id": "L2wrq9l4QjW5"
      },
      "outputs": [],
      "source": [
        "score = model.evaluate(x_test, y_test, verbose=1)\n",
        "y_pred = model.predict(x_test)\n",
        "y_pred = np.argmax(y_pred,axis=1)\n",
        "Y_test = np.argmax(y_test,axis=1)\n",
        "cm = confusion_matrix(Y_test,y_pred)\n",
        "print(cm)\n",
        "accuracy = accuracy_score(Y_test,y_pred)\n",
        "precision = precision_score(Y_test,y_pred,average=\"micro\")\n",
        "recall = recall_score(Y_test,y_pred,average=\"micro\")\n",
        "f1 = f1_score(Y_test,y_pred,average=\"micro\")\n",
        "print(\"\")\n",
        "print(\"Accuracy: \",accuracy)\n",
        "print(\"Precision: \",precision)\n",
        "print(\"Recall: \",recall)\n",
        "print(\"F1 Score: \",f1)"
      ]
    },
    {
      "cell_type": "code",
      "source": [
        "x_train_flat = x_train.reshape(x_train.shape[0], -1)\n",
        "x_test_flat = x_test.reshape(x_test.shape[0], -1)\n",
        "\n",
        "y_train_svm = np.argmax(y_train, axis=1)\n",
        "y_test_svm = np.argmax(y_test, axis=1)\n",
        "\n",
        "svmET.start()\n",
        "svm_StartTime = time.time()\n",
        "svm_model = svm.SVC(kernel='linear')\n",
        "svm_model.fit(x_train_flat, y_train_svm)\n",
        "svm_EndTime = time.time() - svm_StartTime\n",
        "svm_emissions: float = svmET.stop()\n",
        "\n",
        "y_pred_svm = svm_model.predict(x_test_flat)\n",
        "svm_cm = confusion_matrix(y_test_svm, y_pred_svm)\n",
        "\n",
        "svm_accuracy = accuracy_score(y_test_svm, y_pred_svm)\n",
        "svm_precision = precision_score(y_test_svm, y_pred_svm, average=\"micro\")\n",
        "svm_recall = recall_score(y_test_svm, y_pred_svm, average=\"micro\")\n",
        "svm_f1 = f1_score(y_test_svm, y_pred_svm, average=\"micro\")\n",
        "\n",
        "print(svm_cm)\n",
        "print(\"\\nSVM Accuracy: \", svm_accuracy)\n",
        "print(\"SVM Precision: \", svm_precision)\n",
        "print(\"SVM Recall: \", svm_recall)\n",
        "print(\"SVM F1 Score: \", svm_f1)"
      ],
      "metadata": {
        "id": "b0prZQcBRcD0"
      },
      "execution_count": null,
      "outputs": []
    },
    {
      "cell_type": "code",
      "execution_count": null,
      "metadata": {
        "id": "W-hlM3320RL2"
      },
      "outputs": [],
      "source": [
        "print(\"Test loss:\", score[0])\n",
        "print(\"Test accuracy:\", score[1])\n",
        "plt.plot(history.history['accuracy'])\n",
        "plt.plot(history.history['val_accuracy'])\n",
        "plt.title('Model Accuracy')\n",
        "plt.ylabel('accuracy')\n",
        "plt.xlabel('epoch')\n",
        "plt.legend(['train', 'test'], loc='lower right')\n",
        "plt.show()\n",
        "print(\"\")\n",
        "print(f'NN Emissions: {emissions} kg')\n",
        "print(f'SVM Emissions: {svm_emissions} kg')\n",
        "print(\"\")\n",
        "print(\"NN Time taken: \", EndTime, \"seconds\")\n",
        "print(\"SVM Time taken: \", svm_EndTime, \"seconds\")\n",
        "print(\"\")\n",
        "print(\"NN Accuracy : \", accuracy*100, \"%\")\n",
        "print(\"SVM Accuracy : \", svm_accuracy*100, \"%\")\n",
        "print(\"\")"
      ]
    },
    {
      "cell_type": "code",
      "source": [
        "fig, ax1 = plt.subplots(1,1)\n",
        "num = randint(0,9999)\n",
        "ax1.imshow(x_test[num], cmap='gray', interpolation = 'none')\n",
        "ax1.set_title('Prediction: {}, True: {}'.format(y_pred[num], Y_test[num]))\n",
        "ax1.set_xticks([])\n",
        "ax1.set_yticks([])"
      ],
      "metadata": {
        "id": "wr2thrmORjfq"
      },
      "execution_count": null,
      "outputs": []
    },
    {
      "cell_type": "code",
      "source": [
        "misclassified_indices = np.where(Y_test != y_pred)[0]\n",
        "\n",
        "fig, ax2 = plt.subplots(1,1)\n",
        "num1 = np.random.choice(misclassified_indices)\n",
        "ax2.imshow(x_test[num1], cmap='gray', interpolation = 'none')\n",
        "ax2.set_title('Prediction: {}, True: {}'.format(y_pred[num1], Y_test[num1]))\n",
        "ax2.set_xticks([])\n",
        "ax2.set_yticks([])\n"
      ],
      "metadata": {
        "id": "c0qDyeptdqV4"
      },
      "execution_count": null,
      "outputs": []
    }
  ],
  "metadata": {
    "colab": {
      "provenance": [],
      "gpuType": "T4",
      "authorship_tag": "ABX9TyN+o5FAjhV/81Xq7Q6QqBQn",
      "include_colab_link": true
    },
    "kernelspec": {
      "display_name": "Python 3",
      "name": "python3"
    },
    "language_info": {
      "name": "python"
    },
    "accelerator": "GPU"
  },
  "nbformat": 4,
  "nbformat_minor": 0
}